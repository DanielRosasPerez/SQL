{
 "cells": [
  {
   "cell_type": "code",
   "execution_count": 1,
   "metadata": {},
   "outputs": [],
   "source": [
    "import mysql.connector\n",
    "from mysql.connector import Error\n",
    "import pandas as pd"
   ]
  },
  {
   "cell_type": "markdown",
   "metadata": {},
   "source": [
    "##### *Requiered Functions:*"
   ]
  },
  {
   "cell_type": "code",
   "execution_count": 2,
   "metadata": {},
   "outputs": [],
   "source": [
    "def create_server_connection(host_name, user_name, user_password):\n",
    "    \"\"\"This functions establishes the connection between Python and MySQL local server.\"\"\"\n",
    "    \n",
    "    connection = None # To avoid having multiple connections at the same time.\n",
    "    \n",
    "    try:\n",
    "        connection = mysql.connector.connect(\n",
    "            host = host_name,\n",
    "            user = user_name,\n",
    "            passwd = user_password\n",
    "        )\n",
    "        print(\"Connection Successful.\")\n",
    "    \n",
    "    except Error as error:\n",
    "        print(f\"Error: {error}!\")\n",
    "        \n",
    "    return connection"
   ]
  },
  {
   "cell_type": "code",
   "execution_count": 3,
   "metadata": {},
   "outputs": [],
   "source": [
    "def execute_query(connection, query):\n",
    "    \"\"\"This function executes any query without fetching any data.\"\"\"\n",
    "    \n",
    "    cursor = connection.cursor()\n",
    "    \n",
    "    try:\n",
    "        cursor.execute(query)\n",
    "        connection.commit()\n",
    "        print(\"Query Successful.\")\n",
    "    \n",
    "    except Error as error:\n",
    "        print(f\"Error: {error}!\")"
   ]
  },
  {
   "cell_type": "code",
   "execution_count": 4,
   "metadata": {},
   "outputs": [],
   "source": [
    "def fetching_data(connection, query):\n",
    "    \"\"\"This function executes any query and fetches the data.\"\"\"\n",
    "    \n",
    "    cursor = connection.cursor(buffered=True, dictionary=True) # To buffer every data in a dictionary format.\n",
    "    \n",
    "    try:\n",
    "        cursor.execute(query)\n",
    "        connection.commit()\n",
    "        print(\"Data Fetched Correctly.\")\n",
    "    \n",
    "    except Error as error:\n",
    "        print(f\"Error: {error}!\")\n",
    "        \n",
    "    return cursor.fetchall() # To send every data as dictionary."
   ]
  },
  {
   "cell_type": "code",
   "execution_count": 5,
   "metadata": {},
   "outputs": [],
   "source": [
    "def execute_sql_file(connection, file_name):\n",
    "    \"\"\"This function executes SQL files.\"\"\"\n",
    "    \n",
    "    assert file_name.split('.')[-1] in [\"sql\", \"txt\"], \"\"\"Files MUST BE SQL or TXT!\"\"\"\n",
    "    \n",
    "    flag = 0\n",
    "    \n",
    "    cursor = connection.cursor()\n",
    "    \n",
    "    try:\n",
    "        with open(file_name, 'r') as sql_file:\n",
    "            content = sql_file.read() # To read all the content from the SQL File.\n",
    "            Queries = content.split(';')[:-1] # To obtain all the queries from the file, except the garbage after the last ';'.\n",
    "            for query in Queries:\n",
    "                cursor.execute(query)\n",
    "                connection.commit()\n",
    "            flag = 1\n",
    "    \n",
    "    except Error as error:\n",
    "        print(f\"Error: {error}!\")\n",
    "        \n",
    "    if flag:\n",
    "        print(\"SQL File correctly executed.\")"
   ]
  },
  {
   "cell_type": "code",
   "execution_count": 6,
   "metadata": {},
   "outputs": [],
   "source": [
    "def sql_to_dataframes(data):\n",
    "    \"\"\"This function turns the data from any sql database into a pandas dataframe.\"\"\"\n",
    "\n",
    "    data_keys = [key for key in data[0].keys()]\n",
    "    \n",
    "    lista_valores = [[dic[key] for dic in data] for key in data_keys]\n",
    "    \n",
    "    data_for_dataframe = {key:lista_valores[i] for i,key in enumerate(data_keys)}\n",
    "    \n",
    "    sql_dataframe = pd.DataFrame(data = data_for_dataframe)\n",
    "    \n",
    "    return sql_dataframe, data_keys"
   ]
  },
  {
   "cell_type": "markdown",
   "metadata": {},
   "source": [
    "***"
   ]
  },
  {
   "cell_type": "markdown",
   "metadata": {},
   "source": [
    "***DO NOT EXECUTE THIS PART MORE THAN ONCE. IN CASE WE WANT TO RESTART THE KERNEL, WE NEED TO ERASE THE TABLE OR DATABASE.***"
   ]
  },
  {
   "cell_type": "markdown",
   "metadata": {},
   "source": [
    "*Connection with MySQL local server:*"
   ]
  },
  {
   "cell_type": "code",
   "execution_count": 7,
   "metadata": {},
   "outputs": [
    {
     "name": "stdout",
     "output_type": "stream",
     "text": [
      "Connection Successful.\n"
     ]
    }
   ],
   "source": [
    "connection = create_server_connection(\"localhost\", \"root\", \"password\")"
   ]
  },
  {
   "cell_type": "markdown",
   "metadata": {},
   "source": [
    "*Create Database:*"
   ]
  },
  {
   "cell_type": "code",
   "execution_count": 8,
   "metadata": {},
   "outputs": [
    {
     "name": "stdout",
     "output_type": "stream",
     "text": [
      "Query Successful.\n"
     ]
    }
   ],
   "source": [
    "execute_query(connection, \"CREATE DATABASE Section_14y15;\")"
   ]
  },
  {
   "cell_type": "markdown",
   "metadata": {},
   "source": [
    "*Selecting Database:*"
   ]
  },
  {
   "cell_type": "code",
   "execution_count": 9,
   "metadata": {},
   "outputs": [
    {
     "name": "stdout",
     "output_type": "stream",
     "text": [
      "Query Successful.\n"
     ]
    }
   ],
   "source": [
    "execute_query(connection, \"USE Section_14y15;\")"
   ]
  },
  {
   "cell_type": "markdown",
   "metadata": {},
   "source": [
    "*Creating Tables:*"
   ]
  },
  {
   "cell_type": "code",
   "execution_count": 10,
   "metadata": {},
   "outputs": [
    {
     "name": "stdout",
     "output_type": "stream",
     "text": [
      "Query Successful.\n"
     ]
    }
   ],
   "source": [
    "# TABLE No. 1:\n",
    "\n",
    "Users_Table = \"\"\"\n",
    "\n",
    "CREATE TABLE Users (\n",
    "    ID INT NOT NULL AUTO_INCREMENT PRIMARY KEY,\n",
    "    User_Name VARCHAR (255) UNIQUE NOT NULL,\n",
    "    Created_At TIMESTAMP DEFAULT NOW() ON UPDATE NOW() \n",
    ");\n",
    "\n",
    "\"\"\"\n",
    "\n",
    "execute_query(connection, Users_Table)"
   ]
  },
  {
   "cell_type": "code",
   "execution_count": 11,
   "metadata": {},
   "outputs": [
    {
     "name": "stdout",
     "output_type": "stream",
     "text": [
      "Query Successful.\n"
     ]
    }
   ],
   "source": [
    "# TABLE No. 2:\n",
    "\n",
    "Photos_Table = \"\"\"\n",
    "\n",
    "CREATE TABLE Photos (\n",
    "    ID INT NOT NULL AUTO_INCREMENT PRIMARY KEY,\n",
    "    Image_URL VARCHAR (255) NOT NULL,\n",
    "    User_ID INT NOT NULL,\n",
    "    Created_At TIMESTAMP DEFAULT NOW() ON UPDATE CURRENT_TIMESTAMP,\n",
    "    FOREIGN KEY (User_ID) REFERENCES Users(ID) ON DELETE CASCADE\n",
    ");\n",
    "\n",
    "\"\"\"\n",
    "\n",
    "execute_query(connection, Photos_Table)"
   ]
  },
  {
   "cell_type": "code",
   "execution_count": 12,
   "metadata": {},
   "outputs": [
    {
     "name": "stdout",
     "output_type": "stream",
     "text": [
      "Query Successful.\n"
     ]
    }
   ],
   "source": [
    "# TABLE No. 3:\n",
    "\n",
    "Comments_Table = \"\"\"\n",
    "\n",
    "CREATE TABLE Comments (\n",
    "    ID INT NOT NULL AUTO_INCREMENT PRIMARY KEY,\n",
    "    Comment_Text VARCHAR (255) NOT NULL,\n",
    "    Photo_ID INT NOT NULL,\n",
    "    User_ID INT NOT NULL,\n",
    "    Created_At TIMESTAMP DEFAULT NOW() ON UPDATE CURRENT_TIMESTAMP(),\n",
    "    FOREIGN KEY (User_ID) REFERENCES Users(ID) ON DELETE CASCADE,\n",
    "    FOREIGN KEY (Photo_ID) REFERENCES Photos(ID) ON DELETE CASCADE\n",
    ");\n",
    "\n",
    "\"\"\"\n",
    "\n",
    "execute_query(connection, Comments_Table)"
   ]
  },
  {
   "cell_type": "code",
   "execution_count": 13,
   "metadata": {},
   "outputs": [
    {
     "name": "stdout",
     "output_type": "stream",
     "text": [
      "Query Successful.\n"
     ]
    }
   ],
   "source": [
    "# TABLE No. 4:\n",
    "\n",
    "Likes_Table = \"\"\"\n",
    "\n",
    "CREATE TABLE Likes (\n",
    "    User_ID INT NOT NULL,\n",
    "    Photo_ID INT NOT NULL,\n",
    "    Created_At TIMESTAMP DEFAULT NOW() ON UPDATE NOW(),\n",
    "    FOREIGN KEY(User_ID) REFERENCES Users(ID) ON DELETE CASCADE,\n",
    "    FOREIGN KEY(Photo_ID) REFERENCES Photos(ID) ON DELETE CASCADE,\n",
    "    PRIMARY KEY(User_ID, Photo_ID)\n",
    ");\n",
    "\n",
    "\"\"\"\n",
    "\n",
    "execute_query(connection, Likes_Table)"
   ]
  },
  {
   "cell_type": "code",
   "execution_count": 14,
   "metadata": {},
   "outputs": [
    {
     "name": "stdout",
     "output_type": "stream",
     "text": [
      "Query Successful.\n"
     ]
    }
   ],
   "source": [
    "# TABLE No. 5:\n",
    "\n",
    "Follow_Table = \"\"\"\n",
    "\n",
    "CREATE TABLE Follows (\n",
    "    Follower_ID INT NOT NULL,\n",
    "    Followee_ID INT NOT NULL,\n",
    "    Create_At TIMESTAMP DEFAULT NOW() ON UPDATE CURRENT_TIMESTAMP,\n",
    "    FOREIGN KEY(Follower_ID) REFERENCES Users(ID) ON DELETE CASCADE,\n",
    "    FOREIGN KEY(Followee_ID) REFERENCES Users(ID) ON DELETE CASCADE,\n",
    "    PRIMARY KEY (Follower_ID, Followee_ID)\n",
    ");\n",
    "\n",
    "\"\"\"\n",
    "\n",
    "execute_query(connection, Follow_Table)"
   ]
  },
  {
   "cell_type": "code",
   "execution_count": 15,
   "metadata": {},
   "outputs": [
    {
     "name": "stdout",
     "output_type": "stream",
     "text": [
      "Query Successful.\n"
     ]
    }
   ],
   "source": [
    "# TABLE No. 6:\n",
    "\n",
    "Tags_Table = \"\"\"\n",
    "\n",
    "CREATE TABLE Tags (\n",
    "    ID INT NOT NULL AUTO_INCREMENT PRIMARY KEY,\n",
    "    Tag_Name VARCHAR (255) UNIQUE NOT NULL,\n",
    "    Created_At TIMESTAMP DEFAULT NOW() ON UPDATE CURRENT_TIMESTAMP\n",
    ");\n",
    "\n",
    "\"\"\"\n",
    "\n",
    "execute_query(connection, Tags_Table)"
   ]
  },
  {
   "cell_type": "code",
   "execution_count": 16,
   "metadata": {},
   "outputs": [
    {
     "name": "stdout",
     "output_type": "stream",
     "text": [
      "Query Successful.\n"
     ]
    }
   ],
   "source": [
    "# TABLE No. 7:\n",
    "\n",
    "PhotoTags_Table = \"\"\"\n",
    "\n",
    "CREATE TABLE Photo_Tags (\n",
    "    Photo_ID INT NOT NULL,\n",
    "    Tag_ID INT NOT NULL,\n",
    "    FOREIGN KEY (Photo_ID) REFERENCES Photos(ID) ON DELETE CASCADE,\n",
    "    FOREIGN KEY (Tag_ID) REFERENCES Tags(ID) ON DELETE CASCADE,\n",
    "    PRIMARY KEY(Photo_ID, Tag_ID) /* To avoid the same user to tag the the same photo \n",
    "    with the same hashtag multiple times. */\n",
    ");\n",
    "\n",
    "\"\"\"\n",
    "\n",
    "execute_query(connection, PhotoTags_Table)"
   ]
  },
  {
   "cell_type": "markdown",
   "metadata": {},
   "source": [
    "*Inserting Data:*"
   ]
  },
  {
   "cell_type": "code",
   "execution_count": 17,
   "metadata": {},
   "outputs": [
    {
     "name": "stdout",
     "output_type": "stream",
     "text": [
      "SQL File correctly executed.\n"
     ]
    }
   ],
   "source": [
    "file_name = \"ig_clone_data.sql\"\n",
    "\n",
    "execute_sql_file(connection, file_name)"
   ]
  },
  {
   "cell_type": "markdown",
   "metadata": {},
   "source": [
    "***"
   ]
  },
  {
   "cell_type": "markdown",
   "metadata": {},
   "source": [
    "***It's time to work with the data:***\n",
    "\n",
    "#### **Note: Do not consider the default indexes in dataframes.**  \n",
    "#### **Note 2: I won't use pandas to manipulate any dataframe, I only will use SQL statements even though it would be easiest to use pandas. The purpose is to keep practicing SQL.**"
   ]
  },
  {
   "cell_type": "markdown",
   "metadata": {},
   "source": [
    "*Retrieve 5 oldest users:*"
   ]
  },
  {
   "cell_type": "code",
   "execution_count": 18,
   "metadata": {},
   "outputs": [
    {
     "name": "stdout",
     "output_type": "stream",
     "text": [
      "Data Fetched Correctly.\n"
     ]
    }
   ],
   "source": [
    "query = \"\"\"\n",
    "\n",
    "SELECT * FROM Users ORDER BY Created_At LIMIT 5;\n",
    "\n",
    "\"\"\"\n",
    "\n",
    "retrieved_data = fetching_data(connection, query)"
   ]
  },
  {
   "cell_type": "code",
   "execution_count": 19,
   "metadata": {},
   "outputs": [
    {
     "data": {
      "text/html": [
       "<div>\n",
       "<style scoped>\n",
       "    .dataframe tbody tr th:only-of-type {\n",
       "        vertical-align: middle;\n",
       "    }\n",
       "\n",
       "    .dataframe tbody tr th {\n",
       "        vertical-align: top;\n",
       "    }\n",
       "\n",
       "    .dataframe thead th {\n",
       "        text-align: right;\n",
       "    }\n",
       "</style>\n",
       "<table border=\"1\" class=\"dataframe\">\n",
       "  <thead>\n",
       "    <tr style=\"text-align: right;\">\n",
       "      <th></th>\n",
       "      <th>ID</th>\n",
       "      <th>User_Name</th>\n",
       "      <th>Created_At</th>\n",
       "    </tr>\n",
       "  </thead>\n",
       "  <tbody>\n",
       "    <tr>\n",
       "      <th>0</th>\n",
       "      <td>80</td>\n",
       "      <td>Darby_Herzog</td>\n",
       "      <td>2016-05-06 00:14:21</td>\n",
       "    </tr>\n",
       "    <tr>\n",
       "      <th>1</th>\n",
       "      <td>67</td>\n",
       "      <td>Emilio_Bernier52</td>\n",
       "      <td>2016-05-06 13:04:30</td>\n",
       "    </tr>\n",
       "    <tr>\n",
       "      <th>2</th>\n",
       "      <td>63</td>\n",
       "      <td>Elenor88</td>\n",
       "      <td>2016-05-08 01:30:41</td>\n",
       "    </tr>\n",
       "    <tr>\n",
       "      <th>3</th>\n",
       "      <td>95</td>\n",
       "      <td>Nicole71</td>\n",
       "      <td>2016-05-09 17:30:22</td>\n",
       "    </tr>\n",
       "    <tr>\n",
       "      <th>4</th>\n",
       "      <td>38</td>\n",
       "      <td>Jordyn.Jacobson2</td>\n",
       "      <td>2016-05-14 07:56:26</td>\n",
       "    </tr>\n",
       "  </tbody>\n",
       "</table>\n",
       "</div>"
      ],
      "text/plain": [
       "   ID         User_Name          Created_At\n",
       "0  80      Darby_Herzog 2016-05-06 00:14:21\n",
       "1  67  Emilio_Bernier52 2016-05-06 13:04:30\n",
       "2  63          Elenor88 2016-05-08 01:30:41\n",
       "3  95          Nicole71 2016-05-09 17:30:22\n",
       "4  38  Jordyn.Jacobson2 2016-05-14 07:56:26"
      ]
     },
     "execution_count": 19,
     "metadata": {},
     "output_type": "execute_result"
    }
   ],
   "source": [
    "sql_dataframe, data_keys = sql_to_dataframes(retrieved_data)\n",
    "sql_dataframe"
   ]
  },
  {
   "cell_type": "markdown",
   "metadata": {},
   "source": [
    "*Find the most popular day of the week where people got registered:*"
   ]
  },
  {
   "cell_type": "code",
   "execution_count": 20,
   "metadata": {},
   "outputs": [
    {
     "name": "stdout",
     "output_type": "stream",
     "text": [
      "Data Fetched Correctly.\n"
     ]
    }
   ],
   "source": [
    "query = \"\"\"\n",
    "\n",
    "SELECT DATE_FORMAT(Created_At, \"%W\") AS \"Day of the week.\", COUNT(*) AS \"Quantity of Days.\" FROM Users GROUP BY\n",
    "DATE_FORMAT(Created_At, \"%w\") ORDER BY 2 DESC;\n",
    "\n",
    "\"\"\"\n",
    "\n",
    "retrieved_data = fetching_data(connection, query)"
   ]
  },
  {
   "cell_type": "code",
   "execution_count": 21,
   "metadata": {},
   "outputs": [
    {
     "data": {
      "text/html": [
       "<div>\n",
       "<style scoped>\n",
       "    .dataframe tbody tr th:only-of-type {\n",
       "        vertical-align: middle;\n",
       "    }\n",
       "\n",
       "    .dataframe tbody tr th {\n",
       "        vertical-align: top;\n",
       "    }\n",
       "\n",
       "    .dataframe thead th {\n",
       "        text-align: right;\n",
       "    }\n",
       "</style>\n",
       "<table border=\"1\" class=\"dataframe\">\n",
       "  <thead>\n",
       "    <tr style=\"text-align: right;\">\n",
       "      <th></th>\n",
       "      <th>Day of the week.</th>\n",
       "      <th>Quantity of Days.</th>\n",
       "    </tr>\n",
       "  </thead>\n",
       "  <tbody>\n",
       "    <tr>\n",
       "      <th>0</th>\n",
       "      <td>Thursday</td>\n",
       "      <td>16</td>\n",
       "    </tr>\n",
       "    <tr>\n",
       "      <th>1</th>\n",
       "      <td>Sunday</td>\n",
       "      <td>16</td>\n",
       "    </tr>\n",
       "    <tr>\n",
       "      <th>2</th>\n",
       "      <td>Friday</td>\n",
       "      <td>15</td>\n",
       "    </tr>\n",
       "    <tr>\n",
       "      <th>3</th>\n",
       "      <td>Tuesday</td>\n",
       "      <td>14</td>\n",
       "    </tr>\n",
       "    <tr>\n",
       "      <th>4</th>\n",
       "      <td>Monday</td>\n",
       "      <td>14</td>\n",
       "    </tr>\n",
       "    <tr>\n",
       "      <th>5</th>\n",
       "      <td>Wednesday</td>\n",
       "      <td>13</td>\n",
       "    </tr>\n",
       "    <tr>\n",
       "      <th>6</th>\n",
       "      <td>Saturday</td>\n",
       "      <td>12</td>\n",
       "    </tr>\n",
       "  </tbody>\n",
       "</table>\n",
       "</div>"
      ],
      "text/plain": [
       "  Day of the week.  Quantity of Days.\n",
       "0         Thursday                 16\n",
       "1           Sunday                 16\n",
       "2           Friday                 15\n",
       "3          Tuesday                 14\n",
       "4           Monday                 14\n",
       "5        Wednesday                 13\n",
       "6         Saturday                 12"
      ]
     },
     "execution_count": 21,
     "metadata": {},
     "output_type": "execute_result"
    }
   ],
   "source": [
    "sql_dataframe, data_keys = sql_to_dataframes(retrieved_data)\n",
    "sql_dataframe"
   ]
  },
  {
   "cell_type": "code",
   "execution_count": 22,
   "metadata": {},
   "outputs": [
    {
     "name": "stdout",
     "output_type": "stream",
     "text": [
      "Data Fetched Correctly.\n"
     ]
    }
   ],
   "source": [
    "query = \"\"\"\n",
    "\n",
    "SELECT DATE_FORMAT(Created_At, '%W') AS 'Day of the week.', COUNT(*) AS 'Quantity of Days.' FROM Users GROUP BY\n",
    "DATE_FORMAT(Created_At,'%w') ORDER BY 2 DESC LIMIT 2;\n",
    "\n",
    "\"\"\"\n",
    "\n",
    "retrieved_data = fetching_data(connection, query)"
   ]
  },
  {
   "cell_type": "code",
   "execution_count": 23,
   "metadata": {},
   "outputs": [
    {
     "data": {
      "text/html": [
       "<div>\n",
       "<style scoped>\n",
       "    .dataframe tbody tr th:only-of-type {\n",
       "        vertical-align: middle;\n",
       "    }\n",
       "\n",
       "    .dataframe tbody tr th {\n",
       "        vertical-align: top;\n",
       "    }\n",
       "\n",
       "    .dataframe thead th {\n",
       "        text-align: right;\n",
       "    }\n",
       "</style>\n",
       "<table border=\"1\" class=\"dataframe\">\n",
       "  <thead>\n",
       "    <tr style=\"text-align: right;\">\n",
       "      <th></th>\n",
       "      <th>Day of the week.</th>\n",
       "      <th>Quantity of Days.</th>\n",
       "    </tr>\n",
       "  </thead>\n",
       "  <tbody>\n",
       "    <tr>\n",
       "      <th>0</th>\n",
       "      <td>Thursday</td>\n",
       "      <td>16</td>\n",
       "    </tr>\n",
       "    <tr>\n",
       "      <th>1</th>\n",
       "      <td>Sunday</td>\n",
       "      <td>16</td>\n",
       "    </tr>\n",
       "  </tbody>\n",
       "</table>\n",
       "</div>"
      ],
      "text/plain": [
       "  Day of the week.  Quantity of Days.\n",
       "0         Thursday                 16\n",
       "1           Sunday                 16"
      ]
     },
     "execution_count": 23,
     "metadata": {},
     "output_type": "execute_result"
    }
   ],
   "source": [
    "sql_dataframe, data_keys = sql_to_dataframes(retrieved_data)\n",
    "sql_dataframe"
   ]
  },
  {
   "cell_type": "markdown",
   "metadata": {},
   "source": [
    "So, as we can see the most popular days where people registered on was: \"Thursday\" and \"Sunday\". I didn't use pandas to just print out these days, because I want to keep practicing SQL."
   ]
  },
  {
   "cell_type": "markdown",
   "metadata": {},
   "source": [
    "*Find the Users who have never posted a photo:*"
   ]
  },
  {
   "cell_type": "code",
   "execution_count": 24,
   "metadata": {},
   "outputs": [
    {
     "name": "stdout",
     "output_type": "stream",
     "text": [
      "Data Fetched Correctly.\n"
     ]
    }
   ],
   "source": [
    "query = \"\"\"\n",
    "\n",
    "SELECT User_Name AS 'Users who have never posted a photo' FROM Users LEFT JOIN Photos ON Users.ID = Photos.User_ID\n",
    "WHERE Image_URL IS NULL;\n",
    "\n",
    "\"\"\"\n",
    "\n",
    "retrieved_data = fetching_data(connection, query)"
   ]
  },
  {
   "cell_type": "code",
   "execution_count": 25,
   "metadata": {
    "scrolled": true
   },
   "outputs": [
    {
     "data": {
      "text/html": [
       "<div>\n",
       "<style scoped>\n",
       "    .dataframe tbody tr th:only-of-type {\n",
       "        vertical-align: middle;\n",
       "    }\n",
       "\n",
       "    .dataframe tbody tr th {\n",
       "        vertical-align: top;\n",
       "    }\n",
       "\n",
       "    .dataframe thead th {\n",
       "        text-align: right;\n",
       "    }\n",
       "</style>\n",
       "<table border=\"1\" class=\"dataframe\">\n",
       "  <thead>\n",
       "    <tr style=\"text-align: right;\">\n",
       "      <th></th>\n",
       "      <th>Users who have never posted a photo</th>\n",
       "    </tr>\n",
       "  </thead>\n",
       "  <tbody>\n",
       "    <tr>\n",
       "      <th>0</th>\n",
       "      <td>Aniya_Hackett</td>\n",
       "    </tr>\n",
       "    <tr>\n",
       "      <th>1</th>\n",
       "      <td>Bartholome.Bernhard</td>\n",
       "    </tr>\n",
       "    <tr>\n",
       "      <th>2</th>\n",
       "      <td>Bethany20</td>\n",
       "    </tr>\n",
       "    <tr>\n",
       "      <th>3</th>\n",
       "      <td>Darby_Herzog</td>\n",
       "    </tr>\n",
       "    <tr>\n",
       "      <th>4</th>\n",
       "      <td>David.Osinski47</td>\n",
       "    </tr>\n",
       "    <tr>\n",
       "      <th>5</th>\n",
       "      <td>Duane60</td>\n",
       "    </tr>\n",
       "    <tr>\n",
       "      <th>6</th>\n",
       "      <td>Esmeralda.Mraz57</td>\n",
       "    </tr>\n",
       "    <tr>\n",
       "      <th>7</th>\n",
       "      <td>Esther.Zulauf61</td>\n",
       "    </tr>\n",
       "    <tr>\n",
       "      <th>8</th>\n",
       "      <td>Franco_Keebler64</td>\n",
       "    </tr>\n",
       "    <tr>\n",
       "      <th>9</th>\n",
       "      <td>Hulda.Macejkovic</td>\n",
       "    </tr>\n",
       "    <tr>\n",
       "      <th>10</th>\n",
       "      <td>Jaclyn81</td>\n",
       "    </tr>\n",
       "    <tr>\n",
       "      <th>11</th>\n",
       "      <td>Janelle.Nikolaus81</td>\n",
       "    </tr>\n",
       "    <tr>\n",
       "      <th>12</th>\n",
       "      <td>Jessyca_West</td>\n",
       "    </tr>\n",
       "    <tr>\n",
       "      <th>13</th>\n",
       "      <td>Julien_Schmidt</td>\n",
       "    </tr>\n",
       "    <tr>\n",
       "      <th>14</th>\n",
       "      <td>Kasandra_Homenick</td>\n",
       "    </tr>\n",
       "    <tr>\n",
       "      <th>15</th>\n",
       "      <td>Leslie67</td>\n",
       "    </tr>\n",
       "    <tr>\n",
       "      <th>16</th>\n",
       "      <td>Linnea59</td>\n",
       "    </tr>\n",
       "    <tr>\n",
       "      <th>17</th>\n",
       "      <td>Maxwell.Halvorson</td>\n",
       "    </tr>\n",
       "    <tr>\n",
       "      <th>18</th>\n",
       "      <td>Mckenna17</td>\n",
       "    </tr>\n",
       "    <tr>\n",
       "      <th>19</th>\n",
       "      <td>Mike.Auer39</td>\n",
       "    </tr>\n",
       "    <tr>\n",
       "      <th>20</th>\n",
       "      <td>Morgan.Kassulke</td>\n",
       "    </tr>\n",
       "    <tr>\n",
       "      <th>21</th>\n",
       "      <td>Nia_Haag</td>\n",
       "    </tr>\n",
       "    <tr>\n",
       "      <th>22</th>\n",
       "      <td>Ollie_Ledner37</td>\n",
       "    </tr>\n",
       "    <tr>\n",
       "      <th>23</th>\n",
       "      <td>Pearl7</td>\n",
       "    </tr>\n",
       "    <tr>\n",
       "      <th>24</th>\n",
       "      <td>Rocio33</td>\n",
       "    </tr>\n",
       "    <tr>\n",
       "      <th>25</th>\n",
       "      <td>Tierra.Trantow</td>\n",
       "    </tr>\n",
       "  </tbody>\n",
       "</table>\n",
       "</div>"
      ],
      "text/plain": [
       "   Users who have never posted a photo\n",
       "0                        Aniya_Hackett\n",
       "1                  Bartholome.Bernhard\n",
       "2                            Bethany20\n",
       "3                         Darby_Herzog\n",
       "4                      David.Osinski47\n",
       "5                              Duane60\n",
       "6                     Esmeralda.Mraz57\n",
       "7                      Esther.Zulauf61\n",
       "8                     Franco_Keebler64\n",
       "9                     Hulda.Macejkovic\n",
       "10                            Jaclyn81\n",
       "11                  Janelle.Nikolaus81\n",
       "12                        Jessyca_West\n",
       "13                      Julien_Schmidt\n",
       "14                   Kasandra_Homenick\n",
       "15                            Leslie67\n",
       "16                            Linnea59\n",
       "17                   Maxwell.Halvorson\n",
       "18                           Mckenna17\n",
       "19                         Mike.Auer39\n",
       "20                     Morgan.Kassulke\n",
       "21                            Nia_Haag\n",
       "22                      Ollie_Ledner37\n",
       "23                              Pearl7\n",
       "24                             Rocio33\n",
       "25                      Tierra.Trantow"
      ]
     },
     "execution_count": 25,
     "metadata": {},
     "output_type": "execute_result"
    }
   ],
   "source": [
    "sql_dataframe, data_keys = sql_to_dataframes(retrieved_data)\n",
    "sql_dataframe"
   ]
  },
  {
   "cell_type": "markdown",
   "metadata": {},
   "source": [
    "*What and Whose photo has received the most likes?:*"
   ]
  },
  {
   "cell_type": "code",
   "execution_count": 26,
   "metadata": {},
   "outputs": [
    {
     "name": "stdout",
     "output_type": "stream",
     "text": [
      "Data Fetched Correctly.\n"
     ]
    }
   ],
   "source": [
    "query = \"\"\"\n",
    "\n",
    "SELECT User_Name, Photo_ID, Image_URL, COUNT(*) AS 'Number of Likes' FROM Likes INNER JOIN Photos \n",
    "ON Likes.Photo_ID = Photos.ID INNER JOIN Users ON Users.ID = Photos.User_ID GROUP BY 2 \n",
    "ORDER BY 4 DESC LIMIT 1;\n",
    "\n",
    "\"\"\"\n",
    "\n",
    "retrieved_data = fetching_data(connection, query)"
   ]
  },
  {
   "cell_type": "code",
   "execution_count": 27,
   "metadata": {},
   "outputs": [
    {
     "data": {
      "text/html": [
       "<div>\n",
       "<style scoped>\n",
       "    .dataframe tbody tr th:only-of-type {\n",
       "        vertical-align: middle;\n",
       "    }\n",
       "\n",
       "    .dataframe tbody tr th {\n",
       "        vertical-align: top;\n",
       "    }\n",
       "\n",
       "    .dataframe thead th {\n",
       "        text-align: right;\n",
       "    }\n",
       "</style>\n",
       "<table border=\"1\" class=\"dataframe\">\n",
       "  <thead>\n",
       "    <tr style=\"text-align: right;\">\n",
       "      <th></th>\n",
       "      <th>User_Name</th>\n",
       "      <th>Photo_ID</th>\n",
       "      <th>Image_URL</th>\n",
       "      <th>Number of Likes</th>\n",
       "    </tr>\n",
       "  </thead>\n",
       "  <tbody>\n",
       "    <tr>\n",
       "      <th>0</th>\n",
       "      <td>Zack_Kemmer93</td>\n",
       "      <td>145</td>\n",
       "      <td>https://jarret.name</td>\n",
       "      <td>48</td>\n",
       "    </tr>\n",
       "  </tbody>\n",
       "</table>\n",
       "</div>"
      ],
      "text/plain": [
       "       User_Name  Photo_ID            Image_URL  Number of Likes\n",
       "0  Zack_Kemmer93       145  https://jarret.name               48"
      ]
     },
     "execution_count": 27,
     "metadata": {},
     "output_type": "execute_result"
    }
   ],
   "source": [
    "sql_dataframe, data_keys = sql_to_dataframes(retrieved_data)\n",
    "sql_dataframe"
   ]
  },
  {
   "cell_type": "markdown",
   "metadata": {},
   "source": [
    "*How many times does a user post?:*"
   ]
  },
  {
   "cell_type": "code",
   "execution_count": 28,
   "metadata": {},
   "outputs": [
    {
     "name": "stdout",
     "output_type": "stream",
     "text": [
      "Data Fetched Correctly.\n"
     ]
    }
   ],
   "source": [
    "query = \"\"\"\n",
    "\n",
    "SELECT User_Name, COUNT(Image_URL) AS 'No. Of Posts' FROM Users LEFT JOIN Photos ON Users.ID = Photos.User_ID\n",
    "GROUP BY User_Name ORDER BY 2 DESC;\n",
    "\n",
    "\"\"\"\n",
    "\n",
    "retrieved_data = fetching_data(connection, query)"
   ]
  },
  {
   "cell_type": "code",
   "execution_count": 29,
   "metadata": {
    "scrolled": true
   },
   "outputs": [
    {
     "data": {
      "text/html": [
       "<style  type=\"text/css\" >\n",
       "</style><table id=\"T_4a0182a2_1713_11eb_b933_001a7dda7113\" ><thead>    <tr>        <th class=\"blank level0\" ></th>        <th class=\"col_heading level0 col0\" >User_Name</th>        <th class=\"col_heading level0 col1\" >No. Of Posts</th>    </tr></thead><tbody>\n",
       "                <tr>\n",
       "                        <th id=\"T_4a0182a2_1713_11eb_b933_001a7dda7113level0_row0\" class=\"row_heading level0 row0\" >0</th>\n",
       "                        <td id=\"T_4a0182a2_1713_11eb_b933_001a7dda7113row0_col0\" class=\"data row0 col0\" >Eveline95</td>\n",
       "                        <td id=\"T_4a0182a2_1713_11eb_b933_001a7dda7113row0_col1\" class=\"data row0 col1\" >12</td>\n",
       "            </tr>\n",
       "            <tr>\n",
       "                        <th id=\"T_4a0182a2_1713_11eb_b933_001a7dda7113level0_row1\" class=\"row_heading level0 row1\" >1</th>\n",
       "                        <td id=\"T_4a0182a2_1713_11eb_b933_001a7dda7113row1_col0\" class=\"data row1 col0\" >Clint27</td>\n",
       "                        <td id=\"T_4a0182a2_1713_11eb_b933_001a7dda7113row1_col1\" class=\"data row1 col1\" >11</td>\n",
       "            </tr>\n",
       "            <tr>\n",
       "                        <th id=\"T_4a0182a2_1713_11eb_b933_001a7dda7113level0_row2\" class=\"row_heading level0 row2\" >2</th>\n",
       "                        <td id=\"T_4a0182a2_1713_11eb_b933_001a7dda7113row2_col0\" class=\"data row2 col0\" >Cesar93</td>\n",
       "                        <td id=\"T_4a0182a2_1713_11eb_b933_001a7dda7113row2_col1\" class=\"data row2 col1\" >10</td>\n",
       "            </tr>\n",
       "            <tr>\n",
       "                        <th id=\"T_4a0182a2_1713_11eb_b933_001a7dda7113level0_row3\" class=\"row_heading level0 row3\" >3</th>\n",
       "                        <td id=\"T_4a0182a2_1713_11eb_b933_001a7dda7113row3_col0\" class=\"data row3 col0\" >Delfina_VonRueden68</td>\n",
       "                        <td id=\"T_4a0182a2_1713_11eb_b933_001a7dda7113row3_col1\" class=\"data row3 col1\" >9</td>\n",
       "            </tr>\n",
       "            <tr>\n",
       "                        <th id=\"T_4a0182a2_1713_11eb_b933_001a7dda7113level0_row4\" class=\"row_heading level0 row4\" >4</th>\n",
       "                        <td id=\"T_4a0182a2_1713_11eb_b933_001a7dda7113row4_col0\" class=\"data row4 col0\" >Aurelie71</td>\n",
       "                        <td id=\"T_4a0182a2_1713_11eb_b933_001a7dda7113row4_col1\" class=\"data row4 col1\" >8</td>\n",
       "            </tr>\n",
       "            <tr>\n",
       "                        <th id=\"T_4a0182a2_1713_11eb_b933_001a7dda7113level0_row5\" class=\"row_heading level0 row5\" >5</th>\n",
       "                        <td id=\"T_4a0182a2_1713_11eb_b933_001a7dda7113row5_col0\" class=\"data row5 col0\" >Jaime53</td>\n",
       "                        <td id=\"T_4a0182a2_1713_11eb_b933_001a7dda7113row5_col1\" class=\"data row5 col1\" >8</td>\n",
       "            </tr>\n",
       "            <tr>\n",
       "                        <th id=\"T_4a0182a2_1713_11eb_b933_001a7dda7113level0_row6\" class=\"row_heading level0 row6\" >6</th>\n",
       "                        <td id=\"T_4a0182a2_1713_11eb_b933_001a7dda7113row6_col0\" class=\"data row6 col0\" >Donald.Fritsch</td>\n",
       "                        <td id=\"T_4a0182a2_1713_11eb_b933_001a7dda7113row6_col1\" class=\"data row6 col1\" >6</td>\n",
       "            </tr>\n",
       "            <tr>\n",
       "                        <th id=\"T_4a0182a2_1713_11eb_b933_001a7dda7113level0_row7\" class=\"row_heading level0 row7\" >7</th>\n",
       "                        <td id=\"T_4a0182a2_1713_11eb_b933_001a7dda7113row7_col0\" class=\"data row7 col0\" >Adelle96</td>\n",
       "                        <td id=\"T_4a0182a2_1713_11eb_b933_001a7dda7113row7_col1\" class=\"data row7 col1\" >5</td>\n",
       "            </tr>\n",
       "            <tr>\n",
       "                        <th id=\"T_4a0182a2_1713_11eb_b933_001a7dda7113level0_row8\" class=\"row_heading level0 row8\" >8</th>\n",
       "                        <td id=\"T_4a0182a2_1713_11eb_b933_001a7dda7113row8_col0\" class=\"data row8 col0\" >Justina.Gaylord27</td>\n",
       "                        <td id=\"T_4a0182a2_1713_11eb_b933_001a7dda7113row8_col1\" class=\"data row8 col1\" >5</td>\n",
       "            </tr>\n",
       "            <tr>\n",
       "                        <th id=\"T_4a0182a2_1713_11eb_b933_001a7dda7113level0_row9\" class=\"row_heading level0 row9\" >9</th>\n",
       "                        <td id=\"T_4a0182a2_1713_11eb_b933_001a7dda7113row9_col0\" class=\"data row9 col0\" >Janet.Armstrong</td>\n",
       "                        <td id=\"T_4a0182a2_1713_11eb_b933_001a7dda7113row9_col1\" class=\"data row9 col1\" >5</td>\n",
       "            </tr>\n",
       "            <tr>\n",
       "                        <th id=\"T_4a0182a2_1713_11eb_b933_001a7dda7113level0_row10\" class=\"row_heading level0 row10\" >10</th>\n",
       "                        <td id=\"T_4a0182a2_1713_11eb_b933_001a7dda7113row10_col0\" class=\"data row10 col0\" >Alexandro35</td>\n",
       "                        <td id=\"T_4a0182a2_1713_11eb_b933_001a7dda7113row10_col1\" class=\"data row10 col1\" >5</td>\n",
       "            </tr>\n",
       "            <tr>\n",
       "                        <th id=\"T_4a0182a2_1713_11eb_b933_001a7dda7113level0_row11\" class=\"row_heading level0 row11\" >11</th>\n",
       "                        <td id=\"T_4a0182a2_1713_11eb_b933_001a7dda7113row11_col0\" class=\"data row11 col0\" >Josianne.Friesen</td>\n",
       "                        <td id=\"T_4a0182a2_1713_11eb_b933_001a7dda7113row11_col1\" class=\"data row11 col1\" >5</td>\n",
       "            </tr>\n",
       "            <tr>\n",
       "                        <th id=\"T_4a0182a2_1713_11eb_b933_001a7dda7113level0_row12\" class=\"row_heading level0 row12\" >12</th>\n",
       "                        <td id=\"T_4a0182a2_1713_11eb_b933_001a7dda7113row12_col0\" class=\"data row12 col0\" >Travon.Waters</td>\n",
       "                        <td id=\"T_4a0182a2_1713_11eb_b933_001a7dda7113row12_col1\" class=\"data row12 col1\" >5</td>\n",
       "            </tr>\n",
       "            <tr>\n",
       "                        <th id=\"T_4a0182a2_1713_11eb_b933_001a7dda7113level0_row13\" class=\"row_heading level0 row13\" >13</th>\n",
       "                        <td id=\"T_4a0182a2_1713_11eb_b933_001a7dda7113row13_col0\" class=\"data row13 col0\" >Zack_Kemmer93</td>\n",
       "                        <td id=\"T_4a0182a2_1713_11eb_b933_001a7dda7113row13_col1\" class=\"data row13 col1\" >5</td>\n",
       "            </tr>\n",
       "            <tr>\n",
       "                        <th id=\"T_4a0182a2_1713_11eb_b933_001a7dda7113level0_row14\" class=\"row_heading level0 row14\" >14</th>\n",
       "                        <td id=\"T_4a0182a2_1713_11eb_b933_001a7dda7113row14_col0\" class=\"data row14 col0\" >Florence99</td>\n",
       "                        <td id=\"T_4a0182a2_1713_11eb_b933_001a7dda7113row14_col1\" class=\"data row14 col1\" >5</td>\n",
       "            </tr>\n",
       "            <tr>\n",
       "                        <th id=\"T_4a0182a2_1713_11eb_b933_001a7dda7113level0_row15\" class=\"row_heading level0 row15\" >15</th>\n",
       "                        <td id=\"T_4a0182a2_1713_11eb_b933_001a7dda7113row15_col0\" class=\"data row15 col0\" >Mariano_Koch3</td>\n",
       "                        <td id=\"T_4a0182a2_1713_11eb_b933_001a7dda7113row15_col1\" class=\"data row15 col1\" >5</td>\n",
       "            </tr>\n",
       "            <tr>\n",
       "                        <th id=\"T_4a0182a2_1713_11eb_b933_001a7dda7113level0_row16\" class=\"row_heading level0 row16\" >16</th>\n",
       "                        <td id=\"T_4a0182a2_1713_11eb_b933_001a7dda7113row16_col0\" class=\"data row16 col0\" >Colten.Harris76</td>\n",
       "                        <td id=\"T_4a0182a2_1713_11eb_b933_001a7dda7113row16_col1\" class=\"data row16 col1\" >5</td>\n",
       "            </tr>\n",
       "            <tr>\n",
       "                        <th id=\"T_4a0182a2_1713_11eb_b933_001a7dda7113level0_row17\" class=\"row_heading level0 row17\" >17</th>\n",
       "                        <td id=\"T_4a0182a2_1713_11eb_b933_001a7dda7113row17_col0\" class=\"data row17 col0\" >Harrison.Beatty50</td>\n",
       "                        <td id=\"T_4a0182a2_1713_11eb_b933_001a7dda7113row17_col1\" class=\"data row17 col1\" >5</td>\n",
       "            </tr>\n",
       "            <tr>\n",
       "                        <th id=\"T_4a0182a2_1713_11eb_b933_001a7dda7113level0_row18\" class=\"row_heading level0 row18\" >18</th>\n",
       "                        <td id=\"T_4a0182a2_1713_11eb_b933_001a7dda7113row18_col0\" class=\"data row18 col0\" >Kenton_Kirlin</td>\n",
       "                        <td id=\"T_4a0182a2_1713_11eb_b933_001a7dda7113row18_col1\" class=\"data row18 col1\" >5</td>\n",
       "            </tr>\n",
       "            <tr>\n",
       "                        <th id=\"T_4a0182a2_1713_11eb_b933_001a7dda7113level0_row19\" class=\"row_heading level0 row19\" >19</th>\n",
       "                        <td id=\"T_4a0182a2_1713_11eb_b933_001a7dda7113row19_col0\" class=\"data row19 col0\" >Kathryn80</td>\n",
       "                        <td id=\"T_4a0182a2_1713_11eb_b933_001a7dda7113row19_col1\" class=\"data row19 col1\" >5</td>\n",
       "            </tr>\n",
       "            <tr>\n",
       "                        <th id=\"T_4a0182a2_1713_11eb_b933_001a7dda7113level0_row20\" class=\"row_heading level0 row20\" >20</th>\n",
       "                        <td id=\"T_4a0182a2_1713_11eb_b933_001a7dda7113row20_col0\" class=\"data row20 col0\" >Yvette.Gottlieb91</td>\n",
       "                        <td id=\"T_4a0182a2_1713_11eb_b933_001a7dda7113row20_col1\" class=\"data row20 col1\" >5</td>\n",
       "            </tr>\n",
       "            <tr>\n",
       "                        <th id=\"T_4a0182a2_1713_11eb_b933_001a7dda7113level0_row21\" class=\"row_heading level0 row21\" >21</th>\n",
       "                        <td id=\"T_4a0182a2_1713_11eb_b933_001a7dda7113row21_col0\" class=\"data row21 col0\" >Rick29</td>\n",
       "                        <td id=\"T_4a0182a2_1713_11eb_b933_001a7dda7113row21_col1\" class=\"data row21 col1\" >4</td>\n",
       "            </tr>\n",
       "            <tr>\n",
       "                        <th id=\"T_4a0182a2_1713_11eb_b933_001a7dda7113level0_row22\" class=\"row_heading level0 row22\" >22</th>\n",
       "                        <td id=\"T_4a0182a2_1713_11eb_b933_001a7dda7113row22_col0\" class=\"data row22 col0\" >Andre_Purdy85</td>\n",
       "                        <td id=\"T_4a0182a2_1713_11eb_b933_001a7dda7113row22_col1\" class=\"data row22 col1\" >4</td>\n",
       "            </tr>\n",
       "            <tr>\n",
       "                        <th id=\"T_4a0182a2_1713_11eb_b933_001a7dda7113level0_row23\" class=\"row_heading level0 row23\" >23</th>\n",
       "                        <td id=\"T_4a0182a2_1713_11eb_b933_001a7dda7113row23_col0\" class=\"data row23 col0\" >Annalise.McKenzie16</td>\n",
       "                        <td id=\"T_4a0182a2_1713_11eb_b933_001a7dda7113row23_col1\" class=\"data row23 col1\" >4</td>\n",
       "            </tr>\n",
       "            <tr>\n",
       "                        <th id=\"T_4a0182a2_1713_11eb_b933_001a7dda7113level0_row24\" class=\"row_heading level0 row24\" >24</th>\n",
       "                        <td id=\"T_4a0182a2_1713_11eb_b933_001a7dda7113row24_col0\" class=\"data row24 col0\" >Dereck65</td>\n",
       "                        <td id=\"T_4a0182a2_1713_11eb_b933_001a7dda7113row24_col1\" class=\"data row24 col1\" >4</td>\n",
       "            </tr>\n",
       "            <tr>\n",
       "                        <th id=\"T_4a0182a2_1713_11eb_b933_001a7dda7113level0_row25\" class=\"row_heading level0 row25\" >25</th>\n",
       "                        <td id=\"T_4a0182a2_1713_11eb_b933_001a7dda7113row25_col0\" class=\"data row25 col0\" >Harley_Lind18</td>\n",
       "                        <td id=\"T_4a0182a2_1713_11eb_b933_001a7dda7113row25_col1\" class=\"data row25 col1\" >4</td>\n",
       "            </tr>\n",
       "            <tr>\n",
       "                        <th id=\"T_4a0182a2_1713_11eb_b933_001a7dda7113level0_row26\" class=\"row_heading level0 row26\" >26</th>\n",
       "                        <td id=\"T_4a0182a2_1713_11eb_b933_001a7dda7113row26_col0\" class=\"data row26 col0\" >Malinda_Streich</td>\n",
       "                        <td id=\"T_4a0182a2_1713_11eb_b933_001a7dda7113row26_col1\" class=\"data row26 col1\" >4</td>\n",
       "            </tr>\n",
       "            <tr>\n",
       "                        <th id=\"T_4a0182a2_1713_11eb_b933_001a7dda7113level0_row27\" class=\"row_heading level0 row27\" >27</th>\n",
       "                        <td id=\"T_4a0182a2_1713_11eb_b933_001a7dda7113row27_col0\" class=\"data row27 col0\" >Elenor88</td>\n",
       "                        <td id=\"T_4a0182a2_1713_11eb_b933_001a7dda7113row27_col1\" class=\"data row27 col1\" >4</td>\n",
       "            </tr>\n",
       "            <tr>\n",
       "                        <th id=\"T_4a0182a2_1713_11eb_b933_001a7dda7113level0_row28\" class=\"row_heading level0 row28\" >28</th>\n",
       "                        <td id=\"T_4a0182a2_1713_11eb_b933_001a7dda7113row28_col0\" class=\"data row28 col0\" >Irwin.Larson</td>\n",
       "                        <td id=\"T_4a0182a2_1713_11eb_b933_001a7dda7113row28_col1\" class=\"data row28 col1\" >4</td>\n",
       "            </tr>\n",
       "            <tr>\n",
       "                        <th id=\"T_4a0182a2_1713_11eb_b933_001a7dda7113level0_row29\" class=\"row_heading level0 row29\" >29</th>\n",
       "                        <td id=\"T_4a0182a2_1713_11eb_b933_001a7dda7113row29_col0\" class=\"data row29 col0\" >Billy52</td>\n",
       "                        <td id=\"T_4a0182a2_1713_11eb_b933_001a7dda7113row29_col1\" class=\"data row29 col1\" >4</td>\n",
       "            </tr>\n",
       "            <tr>\n",
       "                        <th id=\"T_4a0182a2_1713_11eb_b933_001a7dda7113level0_row30\" class=\"row_heading level0 row30\" >30</th>\n",
       "                        <td id=\"T_4a0182a2_1713_11eb_b933_001a7dda7113row30_col0\" class=\"data row30 col0\" >Tabitha_Schamberger11</td>\n",
       "                        <td id=\"T_4a0182a2_1713_11eb_b933_001a7dda7113row30_col1\" class=\"data row30 col1\" >4</td>\n",
       "            </tr>\n",
       "            <tr>\n",
       "                        <th id=\"T_4a0182a2_1713_11eb_b933_001a7dda7113level0_row31\" class=\"row_heading level0 row31\" >31</th>\n",
       "                        <td id=\"T_4a0182a2_1713_11eb_b933_001a7dda7113row31_col0\" class=\"data row31 col0\" >Seth46</td>\n",
       "                        <td id=\"T_4a0182a2_1713_11eb_b933_001a7dda7113row31_col1\" class=\"data row31 col1\" >4</td>\n",
       "            </tr>\n",
       "            <tr>\n",
       "                        <th id=\"T_4a0182a2_1713_11eb_b933_001a7dda7113level0_row32\" class=\"row_heading level0 row32\" >32</th>\n",
       "                        <td id=\"T_4a0182a2_1713_11eb_b933_001a7dda7113row32_col0\" class=\"data row32 col0\" >Gus93</td>\n",
       "                        <td id=\"T_4a0182a2_1713_11eb_b933_001a7dda7113row32_col1\" class=\"data row32 col1\" >4</td>\n",
       "            </tr>\n",
       "            <tr>\n",
       "                        <th id=\"T_4a0182a2_1713_11eb_b933_001a7dda7113level0_row33\" class=\"row_heading level0 row33\" >33</th>\n",
       "                        <td id=\"T_4a0182a2_1713_11eb_b933_001a7dda7113row33_col0\" class=\"data row33 col0\" >Dario77</td>\n",
       "                        <td id=\"T_4a0182a2_1713_11eb_b933_001a7dda7113row33_col1\" class=\"data row33 col1\" >4</td>\n",
       "            </tr>\n",
       "            <tr>\n",
       "                        <th id=\"T_4a0182a2_1713_11eb_b933_001a7dda7113level0_row34\" class=\"row_heading level0 row34\" >34</th>\n",
       "                        <td id=\"T_4a0182a2_1713_11eb_b933_001a7dda7113row34_col0\" class=\"data row34 col0\" >Keenan.Schamberger60</td>\n",
       "                        <td id=\"T_4a0182a2_1713_11eb_b933_001a7dda7113row34_col1\" class=\"data row34 col1\" >3</td>\n",
       "            </tr>\n",
       "            <tr>\n",
       "                        <th id=\"T_4a0182a2_1713_11eb_b933_001a7dda7113level0_row35\" class=\"row_heading level0 row35\" >35</th>\n",
       "                        <td id=\"T_4a0182a2_1713_11eb_b933_001a7dda7113row35_col0\" class=\"data row35 col0\" >Alek_Watsica</td>\n",
       "                        <td id=\"T_4a0182a2_1713_11eb_b933_001a7dda7113row35_col1\" class=\"data row35 col1\" >3</td>\n",
       "            </tr>\n",
       "            <tr>\n",
       "                        <th id=\"T_4a0182a2_1713_11eb_b933_001a7dda7113level0_row36\" class=\"row_heading level0 row36\" >36</th>\n",
       "                        <td id=\"T_4a0182a2_1713_11eb_b933_001a7dda7113row36_col0\" class=\"data row36 col0\" >Maya.Farrell</td>\n",
       "                        <td id=\"T_4a0182a2_1713_11eb_b933_001a7dda7113row36_col1\" class=\"data row36 col1\" >3</td>\n",
       "            </tr>\n",
       "            <tr>\n",
       "                        <th id=\"T_4a0182a2_1713_11eb_b933_001a7dda7113level0_row37\" class=\"row_heading level0 row37\" >37</th>\n",
       "                        <td id=\"T_4a0182a2_1713_11eb_b933_001a7dda7113row37_col0\" class=\"data row37 col0\" >Norbert_Carroll35</td>\n",
       "                        <td id=\"T_4a0182a2_1713_11eb_b933_001a7dda7113row37_col1\" class=\"data row37 col1\" >3</td>\n",
       "            </tr>\n",
       "            <tr>\n",
       "                        <th id=\"T_4a0182a2_1713_11eb_b933_001a7dda7113level0_row38\" class=\"row_heading level0 row38\" >38</th>\n",
       "                        <td id=\"T_4a0182a2_1713_11eb_b933_001a7dda7113row38_col0\" class=\"data row38 col0\" >Presley_McClure</td>\n",
       "                        <td id=\"T_4a0182a2_1713_11eb_b933_001a7dda7113row38_col1\" class=\"data row38 col1\" >3</td>\n",
       "            </tr>\n",
       "            <tr>\n",
       "                        <th id=\"T_4a0182a2_1713_11eb_b933_001a7dda7113level0_row39\" class=\"row_heading level0 row39\" >39</th>\n",
       "                        <td id=\"T_4a0182a2_1713_11eb_b933_001a7dda7113row39_col0\" class=\"data row39 col0\" >Arely_Bogan63</td>\n",
       "                        <td id=\"T_4a0182a2_1713_11eb_b933_001a7dda7113row39_col1\" class=\"data row39 col1\" >3</td>\n",
       "            </tr>\n",
       "            <tr>\n",
       "                        <th id=\"T_4a0182a2_1713_11eb_b933_001a7dda7113level0_row40\" class=\"row_heading level0 row40\" >40</th>\n",
       "                        <td id=\"T_4a0182a2_1713_11eb_b933_001a7dda7113row40_col0\" class=\"data row40 col0\" >Emilio_Bernier52</td>\n",
       "                        <td id=\"T_4a0182a2_1713_11eb_b933_001a7dda7113row40_col1\" class=\"data row40 col1\" >3</td>\n",
       "            </tr>\n",
       "            <tr>\n",
       "                        <th id=\"T_4a0182a2_1713_11eb_b933_001a7dda7113level0_row41\" class=\"row_heading level0 row41\" >41</th>\n",
       "                        <td id=\"T_4a0182a2_1713_11eb_b933_001a7dda7113row41_col0\" class=\"data row41 col0\" >Frederik_Rice</td>\n",
       "                        <td id=\"T_4a0182a2_1713_11eb_b933_001a7dda7113row41_col1\" class=\"data row41 col1\" >3</td>\n",
       "            </tr>\n",
       "            <tr>\n",
       "                        <th id=\"T_4a0182a2_1713_11eb_b933_001a7dda7113level0_row42\" class=\"row_heading level0 row42\" >42</th>\n",
       "                        <td id=\"T_4a0182a2_1713_11eb_b933_001a7dda7113row42_col0\" class=\"data row42 col0\" >Gerard79</td>\n",
       "                        <td id=\"T_4a0182a2_1713_11eb_b933_001a7dda7113row42_col1\" class=\"data row42 col1\" >3</td>\n",
       "            </tr>\n",
       "            <tr>\n",
       "                        <th id=\"T_4a0182a2_1713_11eb_b933_001a7dda7113level0_row43\" class=\"row_heading level0 row43\" >43</th>\n",
       "                        <td id=\"T_4a0182a2_1713_11eb_b933_001a7dda7113row43_col0\" class=\"data row43 col0\" >Kaley9</td>\n",
       "                        <td id=\"T_4a0182a2_1713_11eb_b933_001a7dda7113row43_col1\" class=\"data row43 col1\" >2</td>\n",
       "            </tr>\n",
       "            <tr>\n",
       "                        <th id=\"T_4a0182a2_1713_11eb_b933_001a7dda7113level0_row44\" class=\"row_heading level0 row44\" >44</th>\n",
       "                        <td id=\"T_4a0182a2_1713_11eb_b933_001a7dda7113row44_col0\" class=\"data row44 col0\" >Alysa22</td>\n",
       "                        <td id=\"T_4a0182a2_1713_11eb_b933_001a7dda7113row44_col1\" class=\"data row44 col1\" >2</td>\n",
       "            </tr>\n",
       "            <tr>\n",
       "                        <th id=\"T_4a0182a2_1713_11eb_b933_001a7dda7113level0_row45\" class=\"row_heading level0 row45\" >45</th>\n",
       "                        <td id=\"T_4a0182a2_1713_11eb_b933_001a7dda7113row45_col0\" class=\"data row45 col0\" >Lennie_Hartmann40</td>\n",
       "                        <td id=\"T_4a0182a2_1713_11eb_b933_001a7dda7113row45_col1\" class=\"data row45 col1\" >2</td>\n",
       "            </tr>\n",
       "            <tr>\n",
       "                        <th id=\"T_4a0182a2_1713_11eb_b933_001a7dda7113level0_row46\" class=\"row_heading level0 row46\" >46</th>\n",
       "                        <td id=\"T_4a0182a2_1713_11eb_b933_001a7dda7113row46_col0\" class=\"data row46 col0\" >Aracely.Johnston98</td>\n",
       "                        <td id=\"T_4a0182a2_1713_11eb_b933_001a7dda7113row46_col1\" class=\"data row46 col1\" >2</td>\n",
       "            </tr>\n",
       "            <tr>\n",
       "                        <th id=\"T_4a0182a2_1713_11eb_b933_001a7dda7113level0_row47\" class=\"row_heading level0 row47\" >47</th>\n",
       "                        <td id=\"T_4a0182a2_1713_11eb_b933_001a7dda7113row47_col0\" class=\"data row47 col0\" >Hailee26</td>\n",
       "                        <td id=\"T_4a0182a2_1713_11eb_b933_001a7dda7113row47_col1\" class=\"data row47 col1\" >2</td>\n",
       "            </tr>\n",
       "            <tr>\n",
       "                        <th id=\"T_4a0182a2_1713_11eb_b933_001a7dda7113level0_row48\" class=\"row_heading level0 row48\" >48</th>\n",
       "                        <td id=\"T_4a0182a2_1713_11eb_b933_001a7dda7113row48_col0\" class=\"data row48 col0\" >Javonte83</td>\n",
       "                        <td id=\"T_4a0182a2_1713_11eb_b933_001a7dda7113row48_col1\" class=\"data row48 col1\" >2</td>\n",
       "            </tr>\n",
       "            <tr>\n",
       "                        <th id=\"T_4a0182a2_1713_11eb_b933_001a7dda7113level0_row49\" class=\"row_heading level0 row49\" >49</th>\n",
       "                        <td id=\"T_4a0182a2_1713_11eb_b933_001a7dda7113row49_col0\" class=\"data row49 col0\" >Milford_Gleichner42</td>\n",
       "                        <td id=\"T_4a0182a2_1713_11eb_b933_001a7dda7113row49_col1\" class=\"data row49 col1\" >2</td>\n",
       "            </tr>\n",
       "            <tr>\n",
       "                        <th id=\"T_4a0182a2_1713_11eb_b933_001a7dda7113level0_row50\" class=\"row_heading level0 row50\" >50</th>\n",
       "                        <td id=\"T_4a0182a2_1713_11eb_b933_001a7dda7113row50_col0\" class=\"data row50 col0\" >Nicole71</td>\n",
       "                        <td id=\"T_4a0182a2_1713_11eb_b933_001a7dda7113row50_col1\" class=\"data row50 col1\" >2</td>\n",
       "            </tr>\n",
       "            <tr>\n",
       "                        <th id=\"T_4a0182a2_1713_11eb_b933_001a7dda7113level0_row51\" class=\"row_heading level0 row51\" >51</th>\n",
       "                        <td id=\"T_4a0182a2_1713_11eb_b933_001a7dda7113row51_col0\" class=\"data row51 col0\" >Jordyn.Jacobson2</td>\n",
       "                        <td id=\"T_4a0182a2_1713_11eb_b933_001a7dda7113row51_col1\" class=\"data row51 col1\" >2</td>\n",
       "            </tr>\n",
       "            <tr>\n",
       "                        <th id=\"T_4a0182a2_1713_11eb_b933_001a7dda7113level0_row52\" class=\"row_heading level0 row52\" >52</th>\n",
       "                        <td id=\"T_4a0182a2_1713_11eb_b933_001a7dda7113row52_col0\" class=\"data row52 col0\" >Ressie_Stanton46</td>\n",
       "                        <td id=\"T_4a0182a2_1713_11eb_b933_001a7dda7113row52_col1\" class=\"data row52 col1\" >2</td>\n",
       "            </tr>\n",
       "            <tr>\n",
       "                        <th id=\"T_4a0182a2_1713_11eb_b933_001a7dda7113level0_row53\" class=\"row_heading level0 row53\" >53</th>\n",
       "                        <td id=\"T_4a0182a2_1713_11eb_b933_001a7dda7113row53_col0\" class=\"data row53 col0\" >Sam52</td>\n",
       "                        <td id=\"T_4a0182a2_1713_11eb_b933_001a7dda7113row53_col1\" class=\"data row53 col1\" >2</td>\n",
       "            </tr>\n",
       "            <tr>\n",
       "                        <th id=\"T_4a0182a2_1713_11eb_b933_001a7dda7113level0_row54\" class=\"row_heading level0 row54\" >54</th>\n",
       "                        <td id=\"T_4a0182a2_1713_11eb_b933_001a7dda7113row54_col0\" class=\"data row54 col0\" >Tomas.Beatty93</td>\n",
       "                        <td id=\"T_4a0182a2_1713_11eb_b933_001a7dda7113row54_col1\" class=\"data row54 col1\" >2</td>\n",
       "            </tr>\n",
       "            <tr>\n",
       "                        <th id=\"T_4a0182a2_1713_11eb_b933_001a7dda7113level0_row55\" class=\"row_heading level0 row55\" >55</th>\n",
       "                        <td id=\"T_4a0182a2_1713_11eb_b933_001a7dda7113row55_col0\" class=\"data row55 col0\" >Willie_Leuschke</td>\n",
       "                        <td id=\"T_4a0182a2_1713_11eb_b933_001a7dda7113row55_col1\" class=\"data row55 col1\" >2</td>\n",
       "            </tr>\n",
       "            <tr>\n",
       "                        <th id=\"T_4a0182a2_1713_11eb_b933_001a7dda7113level0_row56\" class=\"row_heading level0 row56\" >56</th>\n",
       "                        <td id=\"T_4a0182a2_1713_11eb_b933_001a7dda7113row56_col0\" class=\"data row56 col0\" >Katarina.Dibbert</td>\n",
       "                        <td id=\"T_4a0182a2_1713_11eb_b933_001a7dda7113row56_col1\" class=\"data row56 col1\" >1</td>\n",
       "            </tr>\n",
       "            <tr>\n",
       "                        <th id=\"T_4a0182a2_1713_11eb_b933_001a7dda7113level0_row57\" class=\"row_heading level0 row57\" >57</th>\n",
       "                        <td id=\"T_4a0182a2_1713_11eb_b933_001a7dda7113row57_col0\" class=\"data row57 col0\" >Damon35</td>\n",
       "                        <td id=\"T_4a0182a2_1713_11eb_b933_001a7dda7113row57_col1\" class=\"data row57 col1\" >1</td>\n",
       "            </tr>\n",
       "            <tr>\n",
       "                        <th id=\"T_4a0182a2_1713_11eb_b933_001a7dda7113level0_row58\" class=\"row_heading level0 row58\" >58</th>\n",
       "                        <td id=\"T_4a0182a2_1713_11eb_b933_001a7dda7113row58_col0\" class=\"data row58 col0\" >Aiyana_Hoeger</td>\n",
       "                        <td id=\"T_4a0182a2_1713_11eb_b933_001a7dda7113row58_col1\" class=\"data row58 col1\" >1</td>\n",
       "            </tr>\n",
       "            <tr>\n",
       "                        <th id=\"T_4a0182a2_1713_11eb_b933_001a7dda7113level0_row59\" class=\"row_heading level0 row59\" >59</th>\n",
       "                        <td id=\"T_4a0182a2_1713_11eb_b933_001a7dda7113row59_col0\" class=\"data row59 col0\" >Jaylan.Lakin</td>\n",
       "                        <td id=\"T_4a0182a2_1713_11eb_b933_001a7dda7113row59_col1\" class=\"data row59 col1\" >1</td>\n",
       "            </tr>\n",
       "            <tr>\n",
       "                        <th id=\"T_4a0182a2_1713_11eb_b933_001a7dda7113level0_row60\" class=\"row_heading level0 row60\" >60</th>\n",
       "                        <td id=\"T_4a0182a2_1713_11eb_b933_001a7dda7113row60_col0\" class=\"data row60 col0\" >Delpha.Kihn</td>\n",
       "                        <td id=\"T_4a0182a2_1713_11eb_b933_001a7dda7113row60_col1\" class=\"data row60 col1\" >1</td>\n",
       "            </tr>\n",
       "            <tr>\n",
       "                        <th id=\"T_4a0182a2_1713_11eb_b933_001a7dda7113level0_row61\" class=\"row_heading level0 row61\" >61</th>\n",
       "                        <td id=\"T_4a0182a2_1713_11eb_b933_001a7dda7113row61_col0\" class=\"data row61 col0\" >Kelsi26</td>\n",
       "                        <td id=\"T_4a0182a2_1713_11eb_b933_001a7dda7113row61_col1\" class=\"data row61 col1\" >1</td>\n",
       "            </tr>\n",
       "            <tr>\n",
       "                        <th id=\"T_4a0182a2_1713_11eb_b933_001a7dda7113level0_row62\" class=\"row_heading level0 row62\" >62</th>\n",
       "                        <td id=\"T_4a0182a2_1713_11eb_b933_001a7dda7113row62_col0\" class=\"data row62 col0\" >Kenneth64</td>\n",
       "                        <td id=\"T_4a0182a2_1713_11eb_b933_001a7dda7113row62_col1\" class=\"data row62 col1\" >1</td>\n",
       "            </tr>\n",
       "            <tr>\n",
       "                        <th id=\"T_4a0182a2_1713_11eb_b933_001a7dda7113level0_row63\" class=\"row_heading level0 row63\" >63</th>\n",
       "                        <td id=\"T_4a0182a2_1713_11eb_b933_001a7dda7113row63_col0\" class=\"data row63 col0\" >Imani_Nicolas17</td>\n",
       "                        <td id=\"T_4a0182a2_1713_11eb_b933_001a7dda7113row63_col1\" class=\"data row63 col1\" >1</td>\n",
       "            </tr>\n",
       "            <tr>\n",
       "                        <th id=\"T_4a0182a2_1713_11eb_b933_001a7dda7113level0_row64\" class=\"row_heading level0 row64\" >64</th>\n",
       "                        <td id=\"T_4a0182a2_1713_11eb_b933_001a7dda7113row64_col0\" class=\"data row64 col0\" >Darwin29</td>\n",
       "                        <td id=\"T_4a0182a2_1713_11eb_b933_001a7dda7113row64_col1\" class=\"data row64 col1\" >1</td>\n",
       "            </tr>\n",
       "            <tr>\n",
       "                        <th id=\"T_4a0182a2_1713_11eb_b933_001a7dda7113level0_row65\" class=\"row_heading level0 row65\" >65</th>\n",
       "                        <td id=\"T_4a0182a2_1713_11eb_b933_001a7dda7113row65_col0\" class=\"data row65 col0\" >Karley_Bosco</td>\n",
       "                        <td id=\"T_4a0182a2_1713_11eb_b933_001a7dda7113row65_col1\" class=\"data row65 col1\" >1</td>\n",
       "            </tr>\n",
       "            <tr>\n",
       "                        <th id=\"T_4a0182a2_1713_11eb_b933_001a7dda7113level0_row66\" class=\"row_heading level0 row66\" >66</th>\n",
       "                        <td id=\"T_4a0182a2_1713_11eb_b933_001a7dda7113row66_col0\" class=\"data row66 col0\" >Jayson65</td>\n",
       "                        <td id=\"T_4a0182a2_1713_11eb_b933_001a7dda7113row66_col1\" class=\"data row66 col1\" >1</td>\n",
       "            </tr>\n",
       "            <tr>\n",
       "                        <th id=\"T_4a0182a2_1713_11eb_b933_001a7dda7113level0_row67\" class=\"row_heading level0 row67\" >67</th>\n",
       "                        <td id=\"T_4a0182a2_1713_11eb_b933_001a7dda7113row67_col0\" class=\"data row67 col0\" >Meggie_Doyle</td>\n",
       "                        <td id=\"T_4a0182a2_1713_11eb_b933_001a7dda7113row67_col1\" class=\"data row67 col1\" >1</td>\n",
       "            </tr>\n",
       "            <tr>\n",
       "                        <th id=\"T_4a0182a2_1713_11eb_b933_001a7dda7113level0_row68\" class=\"row_heading level0 row68\" >68</th>\n",
       "                        <td id=\"T_4a0182a2_1713_11eb_b933_001a7dda7113row68_col0\" class=\"data row68 col0\" >Granville_Kutch</td>\n",
       "                        <td id=\"T_4a0182a2_1713_11eb_b933_001a7dda7113row68_col1\" class=\"data row68 col1\" >1</td>\n",
       "            </tr>\n",
       "            <tr>\n",
       "                        <th id=\"T_4a0182a2_1713_11eb_b933_001a7dda7113level0_row69\" class=\"row_heading level0 row69\" >69</th>\n",
       "                        <td id=\"T_4a0182a2_1713_11eb_b933_001a7dda7113row69_col0\" class=\"data row69 col0\" >Odessa2</td>\n",
       "                        <td id=\"T_4a0182a2_1713_11eb_b933_001a7dda7113row69_col1\" class=\"data row69 col1\" >1</td>\n",
       "            </tr>\n",
       "            <tr>\n",
       "                        <th id=\"T_4a0182a2_1713_11eb_b933_001a7dda7113level0_row70\" class=\"row_heading level0 row70\" >70</th>\n",
       "                        <td id=\"T_4a0182a2_1713_11eb_b933_001a7dda7113row70_col0\" class=\"data row70 col0\" >Peter.Stehr0</td>\n",
       "                        <td id=\"T_4a0182a2_1713_11eb_b933_001a7dda7113row70_col1\" class=\"data row70 col1\" >1</td>\n",
       "            </tr>\n",
       "            <tr>\n",
       "                        <th id=\"T_4a0182a2_1713_11eb_b933_001a7dda7113level0_row71\" class=\"row_heading level0 row71\" >71</th>\n",
       "                        <td id=\"T_4a0182a2_1713_11eb_b933_001a7dda7113row71_col0\" class=\"data row71 col0\" >Rafael.Hickle2</td>\n",
       "                        <td id=\"T_4a0182a2_1713_11eb_b933_001a7dda7113row71_col1\" class=\"data row71 col1\" >1</td>\n",
       "            </tr>\n",
       "            <tr>\n",
       "                        <th id=\"T_4a0182a2_1713_11eb_b933_001a7dda7113level0_row72\" class=\"row_heading level0 row72\" >72</th>\n",
       "                        <td id=\"T_4a0182a2_1713_11eb_b933_001a7dda7113row72_col0\" class=\"data row72 col0\" >Erick5</td>\n",
       "                        <td id=\"T_4a0182a2_1713_11eb_b933_001a7dda7113row72_col1\" class=\"data row72 col1\" >1</td>\n",
       "            </tr>\n",
       "            <tr>\n",
       "                        <th id=\"T_4a0182a2_1713_11eb_b933_001a7dda7113level0_row73\" class=\"row_heading level0 row73\" >73</th>\n",
       "                        <td id=\"T_4a0182a2_1713_11eb_b933_001a7dda7113row73_col0\" class=\"data row73 col0\" >Yazmin_Mills95</td>\n",
       "                        <td id=\"T_4a0182a2_1713_11eb_b933_001a7dda7113row73_col1\" class=\"data row73 col1\" >1</td>\n",
       "            </tr>\n",
       "            <tr>\n",
       "                        <th id=\"T_4a0182a2_1713_11eb_b933_001a7dda7113level0_row74\" class=\"row_heading level0 row74\" >74</th>\n",
       "                        <td id=\"T_4a0182a2_1713_11eb_b933_001a7dda7113row74_col0\" class=\"data row74 col0\" >Bartholome.Bernhard</td>\n",
       "                        <td id=\"T_4a0182a2_1713_11eb_b933_001a7dda7113row74_col1\" class=\"data row74 col1\" >0</td>\n",
       "            </tr>\n",
       "            <tr>\n",
       "                        <th id=\"T_4a0182a2_1713_11eb_b933_001a7dda7113level0_row75\" class=\"row_heading level0 row75\" >75</th>\n",
       "                        <td id=\"T_4a0182a2_1713_11eb_b933_001a7dda7113row75_col0\" class=\"data row75 col0\" >Darby_Herzog</td>\n",
       "                        <td id=\"T_4a0182a2_1713_11eb_b933_001a7dda7113row75_col1\" class=\"data row75 col1\" >0</td>\n",
       "            </tr>\n",
       "            <tr>\n",
       "                        <th id=\"T_4a0182a2_1713_11eb_b933_001a7dda7113level0_row76\" class=\"row_heading level0 row76\" >76</th>\n",
       "                        <td id=\"T_4a0182a2_1713_11eb_b933_001a7dda7113row76_col0\" class=\"data row76 col0\" >David.Osinski47</td>\n",
       "                        <td id=\"T_4a0182a2_1713_11eb_b933_001a7dda7113row76_col1\" class=\"data row76 col1\" >0</td>\n",
       "            </tr>\n",
       "            <tr>\n",
       "                        <th id=\"T_4a0182a2_1713_11eb_b933_001a7dda7113level0_row77\" class=\"row_heading level0 row77\" >77</th>\n",
       "                        <td id=\"T_4a0182a2_1713_11eb_b933_001a7dda7113row77_col0\" class=\"data row77 col0\" >Morgan.Kassulke</td>\n",
       "                        <td id=\"T_4a0182a2_1713_11eb_b933_001a7dda7113row77_col1\" class=\"data row77 col1\" >0</td>\n",
       "            </tr>\n",
       "            <tr>\n",
       "                        <th id=\"T_4a0182a2_1713_11eb_b933_001a7dda7113level0_row78\" class=\"row_heading level0 row78\" >78</th>\n",
       "                        <td id=\"T_4a0182a2_1713_11eb_b933_001a7dda7113row78_col0\" class=\"data row78 col0\" >Nia_Haag</td>\n",
       "                        <td id=\"T_4a0182a2_1713_11eb_b933_001a7dda7113row78_col1\" class=\"data row78 col1\" >0</td>\n",
       "            </tr>\n",
       "            <tr>\n",
       "                        <th id=\"T_4a0182a2_1713_11eb_b933_001a7dda7113level0_row79\" class=\"row_heading level0 row79\" >79</th>\n",
       "                        <td id=\"T_4a0182a2_1713_11eb_b933_001a7dda7113row79_col0\" class=\"data row79 col0\" >Bethany20</td>\n",
       "                        <td id=\"T_4a0182a2_1713_11eb_b933_001a7dda7113row79_col1\" class=\"data row79 col1\" >0</td>\n",
       "            </tr>\n",
       "            <tr>\n",
       "                        <th id=\"T_4a0182a2_1713_11eb_b933_001a7dda7113level0_row80\" class=\"row_heading level0 row80\" >80</th>\n",
       "                        <td id=\"T_4a0182a2_1713_11eb_b933_001a7dda7113row80_col0\" class=\"data row80 col0\" >Jessyca_West</td>\n",
       "                        <td id=\"T_4a0182a2_1713_11eb_b933_001a7dda7113row80_col1\" class=\"data row80 col1\" >0</td>\n",
       "            </tr>\n",
       "            <tr>\n",
       "                        <th id=\"T_4a0182a2_1713_11eb_b933_001a7dda7113level0_row81\" class=\"row_heading level0 row81\" >81</th>\n",
       "                        <td id=\"T_4a0182a2_1713_11eb_b933_001a7dda7113row81_col0\" class=\"data row81 col0\" >Julien_Schmidt</td>\n",
       "                        <td id=\"T_4a0182a2_1713_11eb_b933_001a7dda7113row81_col1\" class=\"data row81 col1\" >0</td>\n",
       "            </tr>\n",
       "            <tr>\n",
       "                        <th id=\"T_4a0182a2_1713_11eb_b933_001a7dda7113level0_row82\" class=\"row_heading level0 row82\" >82</th>\n",
       "                        <td id=\"T_4a0182a2_1713_11eb_b933_001a7dda7113row82_col0\" class=\"data row82 col0\" >Ollie_Ledner37</td>\n",
       "                        <td id=\"T_4a0182a2_1713_11eb_b933_001a7dda7113row82_col1\" class=\"data row82 col1\" >0</td>\n",
       "            </tr>\n",
       "            <tr>\n",
       "                        <th id=\"T_4a0182a2_1713_11eb_b933_001a7dda7113level0_row83\" class=\"row_heading level0 row83\" >83</th>\n",
       "                        <td id=\"T_4a0182a2_1713_11eb_b933_001a7dda7113row83_col0\" class=\"data row83 col0\" >Pearl7</td>\n",
       "                        <td id=\"T_4a0182a2_1713_11eb_b933_001a7dda7113row83_col1\" class=\"data row83 col1\" >0</td>\n",
       "            </tr>\n",
       "            <tr>\n",
       "                        <th id=\"T_4a0182a2_1713_11eb_b933_001a7dda7113level0_row84\" class=\"row_heading level0 row84\" >84</th>\n",
       "                        <td id=\"T_4a0182a2_1713_11eb_b933_001a7dda7113row84_col0\" class=\"data row84 col0\" >Janelle.Nikolaus81</td>\n",
       "                        <td id=\"T_4a0182a2_1713_11eb_b933_001a7dda7113row84_col1\" class=\"data row84 col1\" >0</td>\n",
       "            </tr>\n",
       "            <tr>\n",
       "                        <th id=\"T_4a0182a2_1713_11eb_b933_001a7dda7113level0_row85\" class=\"row_heading level0 row85\" >85</th>\n",
       "                        <td id=\"T_4a0182a2_1713_11eb_b933_001a7dda7113row85_col0\" class=\"data row85 col0\" >Kasandra_Homenick</td>\n",
       "                        <td id=\"T_4a0182a2_1713_11eb_b933_001a7dda7113row85_col1\" class=\"data row85 col1\" >0</td>\n",
       "            </tr>\n",
       "            <tr>\n",
       "                        <th id=\"T_4a0182a2_1713_11eb_b933_001a7dda7113level0_row86\" class=\"row_heading level0 row86\" >86</th>\n",
       "                        <td id=\"T_4a0182a2_1713_11eb_b933_001a7dda7113row86_col0\" class=\"data row86 col0\" >Jaclyn81</td>\n",
       "                        <td id=\"T_4a0182a2_1713_11eb_b933_001a7dda7113row86_col1\" class=\"data row86 col1\" >0</td>\n",
       "            </tr>\n",
       "            <tr>\n",
       "                        <th id=\"T_4a0182a2_1713_11eb_b933_001a7dda7113level0_row87\" class=\"row_heading level0 row87\" >87</th>\n",
       "                        <td id=\"T_4a0182a2_1713_11eb_b933_001a7dda7113row87_col0\" class=\"data row87 col0\" >Leslie67</td>\n",
       "                        <td id=\"T_4a0182a2_1713_11eb_b933_001a7dda7113row87_col1\" class=\"data row87 col1\" >0</td>\n",
       "            </tr>\n",
       "            <tr>\n",
       "                        <th id=\"T_4a0182a2_1713_11eb_b933_001a7dda7113level0_row88\" class=\"row_heading level0 row88\" >88</th>\n",
       "                        <td id=\"T_4a0182a2_1713_11eb_b933_001a7dda7113row88_col0\" class=\"data row88 col0\" >Franco_Keebler64</td>\n",
       "                        <td id=\"T_4a0182a2_1713_11eb_b933_001a7dda7113row88_col1\" class=\"data row88 col1\" >0</td>\n",
       "            </tr>\n",
       "            <tr>\n",
       "                        <th id=\"T_4a0182a2_1713_11eb_b933_001a7dda7113level0_row89\" class=\"row_heading level0 row89\" >89</th>\n",
       "                        <td id=\"T_4a0182a2_1713_11eb_b933_001a7dda7113row89_col0\" class=\"data row89 col0\" >Rocio33</td>\n",
       "                        <td id=\"T_4a0182a2_1713_11eb_b933_001a7dda7113row89_col1\" class=\"data row89 col1\" >0</td>\n",
       "            </tr>\n",
       "            <tr>\n",
       "                        <th id=\"T_4a0182a2_1713_11eb_b933_001a7dda7113level0_row90\" class=\"row_heading level0 row90\" >90</th>\n",
       "                        <td id=\"T_4a0182a2_1713_11eb_b933_001a7dda7113row90_col0\" class=\"data row90 col0\" >Linnea59</td>\n",
       "                        <td id=\"T_4a0182a2_1713_11eb_b933_001a7dda7113row90_col1\" class=\"data row90 col1\" >0</td>\n",
       "            </tr>\n",
       "            <tr>\n",
       "                        <th id=\"T_4a0182a2_1713_11eb_b933_001a7dda7113level0_row91\" class=\"row_heading level0 row91\" >91</th>\n",
       "                        <td id=\"T_4a0182a2_1713_11eb_b933_001a7dda7113row91_col0\" class=\"data row91 col0\" >Esther.Zulauf61</td>\n",
       "                        <td id=\"T_4a0182a2_1713_11eb_b933_001a7dda7113row91_col1\" class=\"data row91 col1\" >0</td>\n",
       "            </tr>\n",
       "            <tr>\n",
       "                        <th id=\"T_4a0182a2_1713_11eb_b933_001a7dda7113level0_row92\" class=\"row_heading level0 row92\" >92</th>\n",
       "                        <td id=\"T_4a0182a2_1713_11eb_b933_001a7dda7113row92_col0\" class=\"data row92 col0\" >Esmeralda.Mraz57</td>\n",
       "                        <td id=\"T_4a0182a2_1713_11eb_b933_001a7dda7113row92_col1\" class=\"data row92 col1\" >0</td>\n",
       "            </tr>\n",
       "            <tr>\n",
       "                        <th id=\"T_4a0182a2_1713_11eb_b933_001a7dda7113level0_row93\" class=\"row_heading level0 row93\" >93</th>\n",
       "                        <td id=\"T_4a0182a2_1713_11eb_b933_001a7dda7113row93_col0\" class=\"data row93 col0\" >Tierra.Trantow</td>\n",
       "                        <td id=\"T_4a0182a2_1713_11eb_b933_001a7dda7113row93_col1\" class=\"data row93 col1\" >0</td>\n",
       "            </tr>\n",
       "            <tr>\n",
       "                        <th id=\"T_4a0182a2_1713_11eb_b933_001a7dda7113level0_row94\" class=\"row_heading level0 row94\" >94</th>\n",
       "                        <td id=\"T_4a0182a2_1713_11eb_b933_001a7dda7113row94_col0\" class=\"data row94 col0\" >Hulda.Macejkovic</td>\n",
       "                        <td id=\"T_4a0182a2_1713_11eb_b933_001a7dda7113row94_col1\" class=\"data row94 col1\" >0</td>\n",
       "            </tr>\n",
       "            <tr>\n",
       "                        <th id=\"T_4a0182a2_1713_11eb_b933_001a7dda7113level0_row95\" class=\"row_heading level0 row95\" >95</th>\n",
       "                        <td id=\"T_4a0182a2_1713_11eb_b933_001a7dda7113row95_col0\" class=\"data row95 col0\" >Maxwell.Halvorson</td>\n",
       "                        <td id=\"T_4a0182a2_1713_11eb_b933_001a7dda7113row95_col1\" class=\"data row95 col1\" >0</td>\n",
       "            </tr>\n",
       "            <tr>\n",
       "                        <th id=\"T_4a0182a2_1713_11eb_b933_001a7dda7113level0_row96\" class=\"row_heading level0 row96\" >96</th>\n",
       "                        <td id=\"T_4a0182a2_1713_11eb_b933_001a7dda7113row96_col0\" class=\"data row96 col0\" >Aniya_Hackett</td>\n",
       "                        <td id=\"T_4a0182a2_1713_11eb_b933_001a7dda7113row96_col1\" class=\"data row96 col1\" >0</td>\n",
       "            </tr>\n",
       "            <tr>\n",
       "                        <th id=\"T_4a0182a2_1713_11eb_b933_001a7dda7113level0_row97\" class=\"row_heading level0 row97\" >97</th>\n",
       "                        <td id=\"T_4a0182a2_1713_11eb_b933_001a7dda7113row97_col0\" class=\"data row97 col0\" >Mckenna17</td>\n",
       "                        <td id=\"T_4a0182a2_1713_11eb_b933_001a7dda7113row97_col1\" class=\"data row97 col1\" >0</td>\n",
       "            </tr>\n",
       "            <tr>\n",
       "                        <th id=\"T_4a0182a2_1713_11eb_b933_001a7dda7113level0_row98\" class=\"row_heading level0 row98\" >98</th>\n",
       "                        <td id=\"T_4a0182a2_1713_11eb_b933_001a7dda7113row98_col0\" class=\"data row98 col0\" >Duane60</td>\n",
       "                        <td id=\"T_4a0182a2_1713_11eb_b933_001a7dda7113row98_col1\" class=\"data row98 col1\" >0</td>\n",
       "            </tr>\n",
       "            <tr>\n",
       "                        <th id=\"T_4a0182a2_1713_11eb_b933_001a7dda7113level0_row99\" class=\"row_heading level0 row99\" >99</th>\n",
       "                        <td id=\"T_4a0182a2_1713_11eb_b933_001a7dda7113row99_col0\" class=\"data row99 col0\" >Mike.Auer39</td>\n",
       "                        <td id=\"T_4a0182a2_1713_11eb_b933_001a7dda7113row99_col1\" class=\"data row99 col1\" >0</td>\n",
       "            </tr>\n",
       "    </tbody></table>"
      ],
      "text/plain": [
       "<pandas.io.formats.style.Styler at 0x2e56084dcd0>"
      ]
     },
     "execution_count": 29,
     "metadata": {},
     "output_type": "execute_result"
    }
   ],
   "source": [
    "sql_dataframe, data_keys = sql_to_dataframes(retrieved_data)\n",
    "sql_dataframe.style.set_properties()"
   ]
  },
  {
   "cell_type": "markdown",
   "metadata": {},
   "source": [
    "*What is the total average of posted photos?:*"
   ]
  },
  {
   "cell_type": "code",
   "execution_count": 30,
   "metadata": {},
   "outputs": [
    {
     "name": "stdout",
     "output_type": "stream",
     "text": [
      "Data Fetched Correctly.\n"
     ]
    }
   ],
   "source": [
    "query = \"\"\"\n",
    "\n",
    "SELECT (SELECT COUNT(User_ID) FROM Photos) / (SELECT COUNT(ID) FROM Users) AS 'Average Posted Photos.'\n",
    "\n",
    "\"\"\"\n",
    "\n",
    "retrieved_data = fetching_data(connection, query)"
   ]
  },
  {
   "cell_type": "code",
   "execution_count": 31,
   "metadata": {},
   "outputs": [
    {
     "data": {
      "text/html": [
       "<div>\n",
       "<style scoped>\n",
       "    .dataframe tbody tr th:only-of-type {\n",
       "        vertical-align: middle;\n",
       "    }\n",
       "\n",
       "    .dataframe tbody tr th {\n",
       "        vertical-align: top;\n",
       "    }\n",
       "\n",
       "    .dataframe thead th {\n",
       "        text-align: right;\n",
       "    }\n",
       "</style>\n",
       "<table border=\"1\" class=\"dataframe\">\n",
       "  <thead>\n",
       "    <tr style=\"text-align: right;\">\n",
       "      <th></th>\n",
       "      <th>Average Posted Photos.</th>\n",
       "    </tr>\n",
       "  </thead>\n",
       "  <tbody>\n",
       "    <tr>\n",
       "      <th>0</th>\n",
       "      <td>2.5700</td>\n",
       "    </tr>\n",
       "  </tbody>\n",
       "</table>\n",
       "</div>"
      ],
      "text/plain": [
       "  Average Posted Photos.\n",
       "0                 2.5700"
      ]
     },
     "execution_count": 31,
     "metadata": {},
     "output_type": "execute_result"
    }
   ],
   "source": [
    "sql_dataframe, data_keys = sql_to_dataframes(retrieved_data)\n",
    "sql_dataframe"
   ]
  },
  {
   "cell_type": "markdown",
   "metadata": {},
   "source": [
    "*What are the top 5 commonly used hashtags?:*"
   ]
  },
  {
   "cell_type": "code",
   "execution_count": 48,
   "metadata": {},
   "outputs": [
    {
     "name": "stdout",
     "output_type": "stream",
     "text": [
      "Data Fetched Correctly.\n"
     ]
    }
   ],
   "source": [
    "query = \"\"\"\n",
    "\n",
    "SELECT Tag_Name, COUNT(*) AS \"Repetitions\" FROM Photo_Tags INNER JOIN Tags ON Tags.ID = Photo_Tags.Tag_ID\n",
    "GROUP BY Tag_ID ORDER BY 2 DESC LIMIT 7;\n",
    "\n",
    "\"\"\"\n",
    "\n",
    "retrieved_data = fetching_data(connection, query)"
   ]
  },
  {
   "cell_type": "code",
   "execution_count": 49,
   "metadata": {},
   "outputs": [
    {
     "data": {
      "text/html": [
       "<div>\n",
       "<style scoped>\n",
       "    .dataframe tbody tr th:only-of-type {\n",
       "        vertical-align: middle;\n",
       "    }\n",
       "\n",
       "    .dataframe tbody tr th {\n",
       "        vertical-align: top;\n",
       "    }\n",
       "\n",
       "    .dataframe thead th {\n",
       "        text-align: right;\n",
       "    }\n",
       "</style>\n",
       "<table border=\"1\" class=\"dataframe\">\n",
       "  <thead>\n",
       "    <tr style=\"text-align: right;\">\n",
       "      <th></th>\n",
       "      <th>Tag_Name</th>\n",
       "      <th>Repetitions</th>\n",
       "    </tr>\n",
       "  </thead>\n",
       "  <tbody>\n",
       "    <tr>\n",
       "      <th>0</th>\n",
       "      <td>smile</td>\n",
       "      <td>59</td>\n",
       "    </tr>\n",
       "    <tr>\n",
       "      <th>1</th>\n",
       "      <td>beach</td>\n",
       "      <td>42</td>\n",
       "    </tr>\n",
       "    <tr>\n",
       "      <th>2</th>\n",
       "      <td>party</td>\n",
       "      <td>39</td>\n",
       "    </tr>\n",
       "    <tr>\n",
       "      <th>3</th>\n",
       "      <td>fun</td>\n",
       "      <td>38</td>\n",
       "    </tr>\n",
       "    <tr>\n",
       "      <th>4</th>\n",
       "      <td>food</td>\n",
       "      <td>24</td>\n",
       "    </tr>\n",
       "    <tr>\n",
       "      <th>5</th>\n",
       "      <td>lol</td>\n",
       "      <td>24</td>\n",
       "    </tr>\n",
       "    <tr>\n",
       "      <th>6</th>\n",
       "      <td>concert</td>\n",
       "      <td>24</td>\n",
       "    </tr>\n",
       "  </tbody>\n",
       "</table>\n",
       "</div>"
      ],
      "text/plain": [
       "  Tag_Name  Repetitions\n",
       "0    smile           59\n",
       "1    beach           42\n",
       "2    party           39\n",
       "3      fun           38\n",
       "4     food           24\n",
       "5      lol           24\n",
       "6  concert           24"
      ]
     },
     "execution_count": 49,
     "metadata": {},
     "output_type": "execute_result"
    }
   ],
   "source": [
    "sql_dataframe, data_keys = sql_to_dataframes(retrieved_data)\n",
    "sql_dataframe"
   ]
  },
  {
   "cell_type": "markdown",
   "metadata": {},
   "source": [
    "Since the number 5 would be \"food, lol and concert\", because those have the same number of repetitions."
   ]
  },
  {
   "cell_type": "markdown",
   "metadata": {},
   "source": [
    "*Find the bots that liked all the photos:*"
   ]
  },
  {
   "cell_type": "code",
   "execution_count": 70,
   "metadata": {},
   "outputs": [
    {
     "name": "stdout",
     "output_type": "stream",
     "text": [
      "Data Fetched Correctly.\n"
     ]
    }
   ],
   "source": [
    "query = \"\"\"\n",
    "SELECT User_Name, User_ID, COUNT(*) AS Likes_Given FROM Users INNER JOIN Likes ON \n",
    "Users.ID = Likes.User_ID GROUP BY 2 HAVING(COUNT(*) = (SELECT COUNT(DISTINCT Photo_ID) FROM Likes)) \n",
    "ORDER BY 3 DESC;\n",
    "\n",
    "\"\"\"\n",
    "\n",
    "retrieved_data = fetching_data(connection, query)"
   ]
  },
  {
   "cell_type": "code",
   "execution_count": 71,
   "metadata": {},
   "outputs": [
    {
     "data": {
      "text/html": [
       "<div>\n",
       "<style scoped>\n",
       "    .dataframe tbody tr th:only-of-type {\n",
       "        vertical-align: middle;\n",
       "    }\n",
       "\n",
       "    .dataframe tbody tr th {\n",
       "        vertical-align: top;\n",
       "    }\n",
       "\n",
       "    .dataframe thead th {\n",
       "        text-align: right;\n",
       "    }\n",
       "</style>\n",
       "<table border=\"1\" class=\"dataframe\">\n",
       "  <thead>\n",
       "    <tr style=\"text-align: right;\">\n",
       "      <th></th>\n",
       "      <th>User_Name</th>\n",
       "      <th>User_ID</th>\n",
       "      <th>Likes_Given</th>\n",
       "    </tr>\n",
       "  </thead>\n",
       "  <tbody>\n",
       "    <tr>\n",
       "      <th>0</th>\n",
       "      <td>Aniya_Hackett</td>\n",
       "      <td>5</td>\n",
       "      <td>257</td>\n",
       "    </tr>\n",
       "    <tr>\n",
       "      <th>1</th>\n",
       "      <td>Bethany20</td>\n",
       "      <td>91</td>\n",
       "      <td>257</td>\n",
       "    </tr>\n",
       "    <tr>\n",
       "      <th>2</th>\n",
       "      <td>Duane60</td>\n",
       "      <td>54</td>\n",
       "      <td>257</td>\n",
       "    </tr>\n",
       "    <tr>\n",
       "      <th>3</th>\n",
       "      <td>Jaclyn81</td>\n",
       "      <td>14</td>\n",
       "      <td>257</td>\n",
       "    </tr>\n",
       "    <tr>\n",
       "      <th>4</th>\n",
       "      <td>Janelle.Nikolaus81</td>\n",
       "      <td>76</td>\n",
       "      <td>257</td>\n",
       "    </tr>\n",
       "    <tr>\n",
       "      <th>5</th>\n",
       "      <td>Julien_Schmidt</td>\n",
       "      <td>57</td>\n",
       "      <td>257</td>\n",
       "    </tr>\n",
       "    <tr>\n",
       "      <th>6</th>\n",
       "      <td>Leslie67</td>\n",
       "      <td>75</td>\n",
       "      <td>257</td>\n",
       "    </tr>\n",
       "    <tr>\n",
       "      <th>7</th>\n",
       "      <td>Maxwell.Halvorson</td>\n",
       "      <td>24</td>\n",
       "      <td>257</td>\n",
       "    </tr>\n",
       "    <tr>\n",
       "      <th>8</th>\n",
       "      <td>Mckenna17</td>\n",
       "      <td>41</td>\n",
       "      <td>257</td>\n",
       "    </tr>\n",
       "    <tr>\n",
       "      <th>9</th>\n",
       "      <td>Mike.Auer39</td>\n",
       "      <td>66</td>\n",
       "      <td>257</td>\n",
       "    </tr>\n",
       "    <tr>\n",
       "      <th>10</th>\n",
       "      <td>Nia_Haag</td>\n",
       "      <td>71</td>\n",
       "      <td>257</td>\n",
       "    </tr>\n",
       "    <tr>\n",
       "      <th>11</th>\n",
       "      <td>Ollie_Ledner37</td>\n",
       "      <td>36</td>\n",
       "      <td>257</td>\n",
       "    </tr>\n",
       "    <tr>\n",
       "      <th>12</th>\n",
       "      <td>Rocio33</td>\n",
       "      <td>21</td>\n",
       "      <td>257</td>\n",
       "    </tr>\n",
       "  </tbody>\n",
       "</table>\n",
       "</div>"
      ],
      "text/plain": [
       "             User_Name  User_ID  Likes_Given\n",
       "0        Aniya_Hackett        5          257\n",
       "1            Bethany20       91          257\n",
       "2              Duane60       54          257\n",
       "3             Jaclyn81       14          257\n",
       "4   Janelle.Nikolaus81       76          257\n",
       "5       Julien_Schmidt       57          257\n",
       "6             Leslie67       75          257\n",
       "7    Maxwell.Halvorson       24          257\n",
       "8            Mckenna17       41          257\n",
       "9          Mike.Auer39       66          257\n",
       "10            Nia_Haag       71          257\n",
       "11      Ollie_Ledner37       36          257\n",
       "12             Rocio33       21          257"
      ]
     },
     "execution_count": 71,
     "metadata": {},
     "output_type": "execute_result"
    }
   ],
   "source": [
    "sql_dataframe, data_keys = sql_to_dataframes(retrieved_data)\n",
    "sql_dataframe"
   ]
  },
  {
   "cell_type": "code",
   "execution_count": 72,
   "metadata": {},
   "outputs": [
    {
     "name": "stdout",
     "output_type": "stream",
     "text": [
      "Total Number of bots: 13\n"
     ]
    }
   ],
   "source": [
    "print(f\"Total Number of bots: {len(sql_dataframe)}\")"
   ]
  },
  {
   "cell_type": "code",
   "execution_count": null,
   "metadata": {},
   "outputs": [],
   "source": []
  }
 ],
 "metadata": {
  "kernelspec": {
   "display_name": "Python 3",
   "language": "python",
   "name": "python3"
  },
  "language_info": {
   "codemirror_mode": {
    "name": "ipython",
    "version": 3
   },
   "file_extension": ".py",
   "mimetype": "text/x-python",
   "name": "python",
   "nbconvert_exporter": "python",
   "pygments_lexer": "ipython3",
   "version": "3.8.3"
  }
 },
 "nbformat": 4,
 "nbformat_minor": 4
}
